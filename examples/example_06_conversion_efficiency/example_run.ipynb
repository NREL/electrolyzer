{
  "cells": [
    {
      "cell_type": "markdown",
      "metadata": {},
      "source": [
        "# Example Conversion Efficiency\n",
        "\n",
        "This example simulates a single electrolyzer stack with a linear ramping power signal. The electrolyzer is initialized as ON. The full structure for an electrolyzer model is defined in the source code, in `modeling_schema.yaml`.\n",
        "\n",
        "* Conversion is calculated based on the energy consumed per kg of hydrogen. Units are kWh/kg\n",
        "\n",
        "* Conversion efficiency is calculated by dividing the low-heating value of hydrogen (33.33 kWh/kg) by the actual conversion."
      ]
    },
    {
      "cell_type": "code",
      "execution_count": 20,
      "metadata": {},
      "outputs": [],
      "source": [
        "import numpy as np\n",
        "\n",
        "from electrolyzer import run_electrolyzer\n",
        "from electrolyzer.inputs.validation import load_modeling_yaml\n",
        "\n",
        "import matplotlib.pyplot as plt\n",
        "%matplotlib inline"
      ]
    },
    {
      "cell_type": "markdown",
      "metadata": {},
      "source": [
        "## Load Electrolyzer configuration from YAML file\n",
        "\n",
        "This .yaml file initializes a 1.25MW electrolyzer stack as `ON` with the `BaselineDeg` controller. "
      ]
    },
    {
      "cell_type": "code",
      "execution_count": 21,
      "metadata": {},
      "outputs": [
        {
          "data": {
            "text/html": [
              "<div>\n",
              "<style scoped>\n",
              "    .dataframe tbody tr th:only-of-type {\n",
              "        vertical-align: middle;\n",
              "    }\n",
              "\n",
              "    .dataframe tbody tr th {\n",
              "        vertical-align: top;\n",
              "    }\n",
              "\n",
              "    .dataframe thead th {\n",
              "        text-align: right;\n",
              "    }\n",
              "</style>\n",
              "<table border=\"1\" class=\"dataframe\">\n",
              "  <thead>\n",
              "    <tr style=\"text-align: right;\">\n",
              "      <th></th>\n",
              "      <th>power_signal</th>\n",
              "      <th>curtailment</th>\n",
              "      <th>kg_rate</th>\n",
              "      <th>stack_1_deg</th>\n",
              "      <th>stack_1_fatigue</th>\n",
              "      <th>stack_1_cycles</th>\n",
              "      <th>stack_1_uptime</th>\n",
              "      <th>stack_1_kg_rate</th>\n",
              "      <th>stack_1_curr_density</th>\n",
              "      <th>stack_2_deg</th>\n",
              "      <th>stack_2_fatigue</th>\n",
              "      <th>stack_2_cycles</th>\n",
              "      <th>stack_2_uptime</th>\n",
              "      <th>stack_2_kg_rate</th>\n",
              "      <th>stack_2_curr_density</th>\n",
              "    </tr>\n",
              "  </thead>\n",
              "  <tbody>\n",
              "    <tr>\n",
              "      <th>1995</th>\n",
              "      <td>1.497399e+06</td>\n",
              "      <td>0.0</td>\n",
              "      <td>0.0</td>\n",
              "      <td>0.000148</td>\n",
              "      <td>0</td>\n",
              "      <td>1.0</td>\n",
              "      <td>381.0</td>\n",
              "      <td>0.0</td>\n",
              "      <td>1.193396</td>\n",
              "      <td>0.000148</td>\n",
              "      <td>0</td>\n",
              "      <td>1.0</td>\n",
              "      <td>382.0</td>\n",
              "      <td>1.207896e-177</td>\n",
              "      <td>1.193396</td>\n",
              "    </tr>\n",
              "    <tr>\n",
              "      <th>1996</th>\n",
              "      <td>1.498049e+06</td>\n",
              "      <td>0.0</td>\n",
              "      <td>0.0</td>\n",
              "      <td>0.000148</td>\n",
              "      <td>0</td>\n",
              "      <td>1.0</td>\n",
              "      <td>382.0</td>\n",
              "      <td>0.0</td>\n",
              "      <td>1.193845</td>\n",
              "      <td>0.000148</td>\n",
              "      <td>0</td>\n",
              "      <td>1.0</td>\n",
              "      <td>383.0</td>\n",
              "      <td>9.889416e-178</td>\n",
              "      <td>1.193845</td>\n",
              "    </tr>\n",
              "    <tr>\n",
              "      <th>1997</th>\n",
              "      <td>1.498699e+06</td>\n",
              "      <td>0.0</td>\n",
              "      <td>0.0</td>\n",
              "      <td>0.000148</td>\n",
              "      <td>0</td>\n",
              "      <td>1.0</td>\n",
              "      <td>383.0</td>\n",
              "      <td>0.0</td>\n",
              "      <td>1.194293</td>\n",
              "      <td>0.000148</td>\n",
              "      <td>0</td>\n",
              "      <td>1.0</td>\n",
              "      <td>384.0</td>\n",
              "      <td>8.096769e-178</td>\n",
              "      <td>1.194293</td>\n",
              "    </tr>\n",
              "    <tr>\n",
              "      <th>1998</th>\n",
              "      <td>1.499350e+06</td>\n",
              "      <td>0.0</td>\n",
              "      <td>0.0</td>\n",
              "      <td>0.000148</td>\n",
              "      <td>0</td>\n",
              "      <td>1.0</td>\n",
              "      <td>384.0</td>\n",
              "      <td>0.0</td>\n",
              "      <td>1.194742</td>\n",
              "      <td>0.000148</td>\n",
              "      <td>0</td>\n",
              "      <td>1.0</td>\n",
              "      <td>385.0</td>\n",
              "      <td>6.629074e-178</td>\n",
              "      <td>1.194742</td>\n",
              "    </tr>\n",
              "    <tr>\n",
              "      <th>1999</th>\n",
              "      <td>1.500000e+06</td>\n",
              "      <td>0.0</td>\n",
              "      <td>0.0</td>\n",
              "      <td>0.000148</td>\n",
              "      <td>0</td>\n",
              "      <td>1.0</td>\n",
              "      <td>385.0</td>\n",
              "      <td>0.0</td>\n",
              "      <td>1.195191</td>\n",
              "      <td>0.000148</td>\n",
              "      <td>0</td>\n",
              "      <td>1.0</td>\n",
              "      <td>386.0</td>\n",
              "      <td>5.427427e-178</td>\n",
              "      <td>1.195191</td>\n",
              "    </tr>\n",
              "  </tbody>\n",
              "</table>\n",
              "</div>"
            ],
            "text/plain": [
              "      power_signal  curtailment  kg_rate  stack_1_deg  stack_1_fatigue  \\\n",
              "1995  1.497399e+06          0.0      0.0     0.000148                0   \n",
              "1996  1.498049e+06          0.0      0.0     0.000148                0   \n",
              "1997  1.498699e+06          0.0      0.0     0.000148                0   \n",
              "1998  1.499350e+06          0.0      0.0     0.000148                0   \n",
              "1999  1.500000e+06          0.0      0.0     0.000148                0   \n",
              "\n",
              "      stack_1_cycles  stack_1_uptime  stack_1_kg_rate  stack_1_curr_density  \\\n",
              "1995             1.0           381.0              0.0              1.193396   \n",
              "1996             1.0           382.0              0.0              1.193845   \n",
              "1997             1.0           383.0              0.0              1.194293   \n",
              "1998             1.0           384.0              0.0              1.194742   \n",
              "1999             1.0           385.0              0.0              1.195191   \n",
              "\n",
              "      stack_2_deg  stack_2_fatigue  stack_2_cycles  stack_2_uptime  \\\n",
              "1995     0.000148                0             1.0           382.0   \n",
              "1996     0.000148                0             1.0           383.0   \n",
              "1997     0.000148                0             1.0           384.0   \n",
              "1998     0.000148                0             1.0           385.0   \n",
              "1999     0.000148                0             1.0           386.0   \n",
              "\n",
              "      stack_2_kg_rate  stack_2_curr_density  \n",
              "1995    1.207896e-177              1.193396  \n",
              "1996    9.889416e-178              1.193845  \n",
              "1997    8.096769e-178              1.194293  \n",
              "1998    6.629074e-178              1.194742  \n",
              "1999    5.427427e-178              1.195191  "
            ]
          },
          "execution_count": 21,
          "metadata": {},
          "output_type": "execute_result"
        }
      ],
      "source": [
        "fname_input_modeling = \"./modeling_options.yaml\"\n",
        "model_input = load_modeling_yaml(fname_input_modeling)\n",
        "\n",
        "rated_power = model_input['electrolyzer']['stack']['stack_rating_kW']\n",
        "\n",
        "# Linear ramping power signal [W]\n",
        "power_signal_input = np.linspace(2e5, 1.2e3 * rated_power, 2000)\n",
        "\n",
        "elec_sys, results_df = run_electrolyzer(model_input, power_signal_input)\n",
        "\n",
        "results_df.tail()"
      ]
    },
    {
      "cell_type": "markdown",
      "metadata": {},
      "source": [
        "### Co-Plot H2 rate and Conversion Efficiency\n",
        "\n",
        "* Converts DataFrame data to kW and kg/hr\n",
        "* low-heating value (LHV) = 33.33 kWh/kg\n",
        "* Rated power = 1250kW "
      ]
    },
    {
      "cell_type": "code",
      "execution_count": 22,
      "metadata": {},
      "outputs": [
        {
          "name": "stdout",
          "output_type": "stream",
          "text": [
            "Minimum Energy Conversion: inf kW/kg\n"
          ]
        },
        {
          "data": {
            "image/png": "[encoded data removed]",
            "text/plain": [
              "<Figure size 640x480 with 2 Axes>"
            ]
          },
          "metadata": {},
          "output_type": "display_data"
        }
      ],
      "source": [
        "power_kW = results_df['power_signal'] / 1e3\n",
        "h2rate_kg_hr = results_df['kg_rate'] * 3600 \n",
        "\n",
        "lhv = 33.33 # kWh/kg\n",
        "\n",
        "eff_conv = lhv * h2rate_kg_hr / power_kW\n",
        "\n",
        "eta_kWh_kg = power_kW / h2rate_kg_hr\n",
        "print(f\"Minimum Energy Conversion: {eta_kWh_kg.min():.2f} kW/kg\")\n",
        "\n",
        "fig, ax = plt.subplots()\n",
        "ax.set_title('H2 Production and Conversion Efficiency')\n",
        "ax.plot(power_kW, h2rate_kg_hr, label='H2 Production', color='green')\n",
        "ax.set_xlabel(\"Total Power [kW]\")\n",
        "ax.set_ylabel(\"Mass Flow-Rate [kg/hr]\")\n",
        "ax.vlines(x=rated_power, ymin=0, ymax=1.2*h2rate_kg_hr.max(), linestyle='dashed', color='black', label='Rated-Power')\n",
        "plt.legend(loc='lower right')\n",
        "\n",
        "ax2 = ax.twinx()\n",
        "ax2.plot(power_kW, eff_conv, color='orange', label='Efficiency')\n",
        "ax2.set_ylabel(\"Effiency\")\n",
        "plt.legend()\n",
        "plt.grid()"
      ]
    }
  ],
  "metadata": {
    "kernelspec": {
      "display_name": "Python 3.8.13 ('hopp')",
      "language": "python",
      "name": "python3"
    },
    "language_info": {
      "codemirror_mode": {
        "name": "ipython",
        "version": 3
      },
      "file_extension": ".py",
      "mimetype": "text/x-python",
      "name": "python",
      "nbconvert_exporter": "python",
      "pygments_lexer": "ipython3",
      "version": "3.8.17"
    },
    "orig_nbformat": 4,
    "vscode": {
      "interpreter": {
        "hash": "9a04511d318809dd12c12e36f25289adaaf050c85c4c458841c399d183c75e5d"
      }
    }
  },
  "nbformat": 4,
  "nbformat_minor": 2
}
