{
 "cells": [
  {
   "attachments": {},
   "cell_type": "markdown",
   "metadata": {},
   "source": [
    "# Supervisor Controller Example\n",
    "\n",
    "This is an example to show how to select `supervisor` controllers and the differences between `supervisor` controllers."
   ]
  },
  {
   "cell_type": "code",
   "execution_count": 1,
   "metadata": {},
   "outputs": [],
   "source": [
    "import numpy as np\n",
    "\n",
    "from electrolyzer import run_electrolyzer\n",
    "from electrolyzer.inputs.validation import load_modeling_yaml"
   ]
  },
  {
   "cell_type": "code",
   "execution_count": 2,
   "metadata": {},
   "outputs": [],
   "source": [
    "turbine_rating = 3.4  # MW\n",
    "\n",
    "# Create cosine test signal\n",
    "test_signal_angle = np.linspace(0, 8 * np.pi, 3600 * 8 + 10)\n",
    "base_value = (turbine_rating / 2) + 0.2\n",
    "variation_value = turbine_rating - base_value\n",
    "power_test_signal = (base_value + variation_value * np.cos(test_signal_angle)) * 1e6"
   ]
  },
  {
   "cell_type": "code",
   "execution_count": 3,
   "metadata": {},
   "outputs": [
    {
     "ename": "ValidationError",
     "evalue": "'decision_ctrl' is not one of ['PowerSharingRotation', 'SequentialRotation', 'EvenSplitEagerDeg', 'EvenSplitHesitantDeg', 'SequentialEvenWearDeg', 'SequentialSingleWearDeg', 'BaselineDeg', 'Decision_ctrl']\n\nFailed validating 'enum' in schema['properties']['electrolyzer']['properties']['control']['properties']['control_type']:\n    {'default': 'BaselineDeg',\n     'description': None,\n     'enum': ['PowerSharingRotation',\n              'SequentialRotation',\n              'EvenSplitEagerDeg',\n              'EvenSplitHesitantDeg',\n              'SequentialEvenWearDeg',\n              'SequentialSingleWearDeg',\n              'BaselineDeg',\n              'Decision_ctrl'],\n     'type': 'string'}\n\nOn instance['electrolyzer']['control']['control_type']:\n    'decision_ctrl'",
     "output_type": "error",
     "traceback": [
      "\u001b[1;31m---------------------------------------------------------------------------\u001b[0m",
      "\u001b[1;31mValidationError\u001b[0m                           Traceback (most recent call last)",
      "Cell \u001b[1;32mIn[3], line 3\u001b[0m\n\u001b[0;32m      1\u001b[0m fname_input_modeling \u001b[39m=\u001b[39m \u001b[39m\"\u001b[39m\u001b[39m./modeling_options.yaml\u001b[39m\u001b[39m\"\u001b[39m\n\u001b[1;32m----> 3\u001b[0m elec_sys, result_df \u001b[39m=\u001b[39m run_electrolyzer(fname_input_modeling, power_test_signal)\n",
      "File \u001b[1;32m~\\Documents\\electrolyzer_model\\electrolyzer\\electrolyzer\\glue_code\\run_electrolyzer.py:39\u001b[0m, in \u001b[0;36mrun_electrolyzer\u001b[1;34m(input_modeling, power_signal)\u001b[0m\n\u001b[0;32m     29\u001b[0m \u001b[39massert\u001b[39;00m \u001b[39misinstance\u001b[39m(\n\u001b[0;32m     30\u001b[0m     input_modeling,\n\u001b[0;32m     31\u001b[0m     (\n\u001b[1;32m   (...)\u001b[0m\n\u001b[0;32m     34\u001b[0m     ),\n\u001b[0;32m     35\u001b[0m ), err_msg\n\u001b[0;32m     37\u001b[0m \u001b[39mif\u001b[39;00m \u001b[39misinstance\u001b[39m(input_modeling, \u001b[39mstr\u001b[39m):\n\u001b[0;32m     38\u001b[0m     \u001b[39m# Parse/validate yaml configuration\u001b[39;00m\n\u001b[1;32m---> 39\u001b[0m     modeling_options \u001b[39m=\u001b[39m val\u001b[39m.\u001b[39;49mload_modeling_yaml(input_modeling)\n\u001b[0;32m     40\u001b[0m \u001b[39melse\u001b[39;00m:\n\u001b[0;32m     41\u001b[0m     modeling_options \u001b[39m=\u001b[39m input_modeling\n",
      "File \u001b[1;32m~\\Documents\\electrolyzer_model\\electrolyzer\\electrolyzer\\inputs\\validation.py:147\u001b[0m, in \u001b[0;36mload_modeling_yaml\u001b[1;34m(finput)\u001b[0m\n\u001b[0;32m    146\u001b[0m \u001b[39mdef\u001b[39;00m \u001b[39mload_modeling_yaml\u001b[39m(finput):\n\u001b[1;32m--> 147\u001b[0m     \u001b[39mreturn\u001b[39;00m validate_with_defaults(finput, fschema_model)\n",
      "File \u001b[1;32m~\\Documents\\electrolyzer_model\\electrolyzer\\electrolyzer\\inputs\\validation.py:137\u001b[0m, in \u001b[0;36mvalidate_with_defaults\u001b[1;34m(finput, fschema)\u001b[0m\n\u001b[0;32m    135\u001b[0m yaml_schema \u001b[39m=\u001b[39m load_yaml(fschema) \u001b[39mif\u001b[39;00m \u001b[39misinstance\u001b[39m(fschema, \u001b[39mstr\u001b[39m) \u001b[39melse\u001b[39;00m fschema\n\u001b[0;32m    136\u001b[0m myobj \u001b[39m=\u001b[39m load_yaml(finput) \u001b[39mif\u001b[39;00m \u001b[39misinstance\u001b[39m(finput, \u001b[39mstr\u001b[39m) \u001b[39melse\u001b[39;00m finput\n\u001b[1;32m--> 137\u001b[0m DefaultValidatingDraft7Validator(yaml_schema)\u001b[39m.\u001b[39;49mvalidate(myobj)\n\u001b[0;32m    138\u001b[0m \u001b[39mreturn\u001b[39;00m myobj\n",
      "File \u001b[1;32mc:\\Users\\ztully\\.conda\\envs\\electrolyzer\\Lib\\site-packages\\jsonschema\\validators.py:314\u001b[0m, in \u001b[0;36mcreate.<locals>.Validator.validate\u001b[1;34m(self, *args, **kwargs)\u001b[0m\n\u001b[0;32m    312\u001b[0m \u001b[39mdef\u001b[39;00m \u001b[39mvalidate\u001b[39m(\u001b[39mself\u001b[39m, \u001b[39m*\u001b[39margs, \u001b[39m*\u001b[39m\u001b[39m*\u001b[39mkwargs):\n\u001b[0;32m    313\u001b[0m     \u001b[39mfor\u001b[39;00m error \u001b[39min\u001b[39;00m \u001b[39mself\u001b[39m\u001b[39m.\u001b[39miter_errors(\u001b[39m*\u001b[39margs, \u001b[39m*\u001b[39m\u001b[39m*\u001b[39mkwargs):\n\u001b[1;32m--> 314\u001b[0m         \u001b[39mraise\u001b[39;00m error\n",
      "\u001b[1;31mValidationError\u001b[0m: 'decision_ctrl' is not one of ['PowerSharingRotation', 'SequentialRotation', 'EvenSplitEagerDeg', 'EvenSplitHesitantDeg', 'SequentialEvenWearDeg', 'SequentialSingleWearDeg', 'BaselineDeg', 'Decision_ctrl']\n\nFailed validating 'enum' in schema['properties']['electrolyzer']['properties']['control']['properties']['control_type']:\n    {'default': 'BaselineDeg',\n     'description': None,\n     'enum': ['PowerSharingRotation',\n              'SequentialRotation',\n              'EvenSplitEagerDeg',\n              'EvenSplitHesitantDeg',\n              'SequentialEvenWearDeg',\n              'SequentialSingleWearDeg',\n              'BaselineDeg',\n              'Decision_ctrl'],\n     'type': 'string'}\n\nOn instance['electrolyzer']['control']['control_type']:\n    'decision_ctrl'"
     ]
    }
   ],
   "source": [
    "fname_input_modeling = \"./modeling_options.yaml\"\n",
    "\n",
    "elec_sys, result_df = run_electrolyzer(fname_input_modeling, power_test_signal)"
   ]
  },
  {
   "cell_type": "code",
   "execution_count": null,
   "metadata": {},
   "outputs": [],
   "source": [
    "type(elec_sys)\n",
    "result_df.tail()"
   ]
  },
  {
   "cell_type": "code",
   "execution_count": null,
   "metadata": {},
   "outputs": [],
   "source": []
  }
 ],
 "metadata": {
  "kernelspec": {
   "display_name": "electrolyzer",
   "language": "python",
   "name": "python3"
  },
  "language_info": {
   "codemirror_mode": {
    "name": "ipython",
    "version": 3
   },
   "file_extension": ".py",
   "mimetype": "text/x-python",
   "name": "python",
   "nbconvert_exporter": "python",
   "pygments_lexer": "ipython3",
   "version": "3.11.0"
  },
  "orig_nbformat": 4,
  "vscode": {
   "interpreter": {
    "hash": "b864d12a26c55da9489dc4962b78ab47c32770e914140b47c681a65da3af26ab"
   }
  }
 },
 "nbformat": 4,
 "nbformat_minor": 2
}
